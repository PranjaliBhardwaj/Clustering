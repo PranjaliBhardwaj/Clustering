{
 "cells": [
  {
   "cell_type": "code",
   "execution_count": 1,
   "id": "dfa9d929-961d-4fe1-8764-345ecd4fd176",
   "metadata": {},
   "outputs": [],
   "source": [
    "import os\n",
    "os.environ[\"OMP_NUM_THREADS\"] = \"2\""
   ]
  },
  {
   "cell_type": "code",
   "execution_count": 3,
   "id": "d14b2634-c7e9-4bb0-9d50-6fd0d7a0a08f",
   "metadata": {},
   "outputs": [],
   "source": [
    "import sys\n",
    "if 'sklearn' in sys.modules:\n",
    "    del sys.modules['sklearn']"
   ]
  },
  {
   "cell_type": "code",
   "execution_count": 5,
   "id": "fea2e3d2-bb83-4663-874a-447ee833b500",
   "metadata": {},
   "outputs": [],
   "source": [
    "import numpy as np\n",
    "import pandas as pd\n",
    "import matplotlib.pyplot as plt\n",
    "from sklearn.cluster import KMeans, DBSCAN\n",
    "from scipy.io import arff"
   ]
  },
  {
   "cell_type": "code",
   "execution_count": 7,
   "id": "fb866a40-d87c-445b-84a2-612155ea0356",
   "metadata": {},
   "outputs": [],
   "source": [
    "data, meta = arff.loadarff('compound.arff')"
   ]
  },
  {
   "cell_type": "code",
   "execution_count": 75,
   "id": "0098e785-1828-43d2-967b-38f6fb4e111a",
   "metadata": {},
   "outputs": [],
   "source": [
    "X = np.array([[row[0], row[1]] for row in data])\n"
   ]
  },
  {
   "cell_type": "code",
   "execution_count": 77,
   "id": "97ea3465-aeea-4bf2-9a47-0cf859185754",
   "metadata": {},
   "outputs": [],
   "source": [
    "kmeans = KMeans(n_clusters=6, random_state=170, n_init=10)\n",
    "kmeans_labels = kmeans.fit_predict(X)"
   ]
  },
  {
   "cell_type": "code",
   "execution_count": 79,
   "id": "007f0d92-4c03-449d-8a9d-550cf62bd8e4",
   "metadata": {},
   "outputs": [],
   "source": [
    "dbscan = DBSCAN(eps=0.3, min_samples=10)\n",
    "dbscan_labels = dbscan.fit_predict(X)"
   ]
  },
  {
   "cell_type": "code",
   "execution_count": 81,
   "id": "959ac4b6-fe68-4570-9e0c-7db5e228eb5c",
   "metadata": {},
   "outputs": [
    {
     "data": {
      "text/plain": [
       "<Figure size 1200x600 with 0 Axes>"
      ]
     },
     "execution_count": 81,
     "metadata": {},
     "output_type": "execute_result"
    },
    {
     "data": {
      "text/plain": [
       "<Figure size 1200x600 with 0 Axes>"
      ]
     },
     "metadata": {},
     "output_type": "display_data"
    }
   ],
   "source": [
    "plt.figure(figsize=(12, 6))"
   ]
  },
  {
   "cell_type": "code",
   "execution_count": null,
   "id": "76347b1a-c04b-499c-8724-81744f25abbb",
   "metadata": {},
   "outputs": [],
   "source": []
  }
 ],
 "metadata": {
  "kernelspec": {
   "display_name": "Python 3 (ipykernel)",
   "language": "python",
   "name": "python3"
  },
  "language_info": {
   "codemirror_mode": {
    "name": "ipython",
    "version": 3
   },
   "file_extension": ".py",
   "mimetype": "text/x-python",
   "name": "python",
   "nbconvert_exporter": "python",
   "pygments_lexer": "ipython3",
   "version": "3.11.7"
  }
 },
 "nbformat": 4,
 "nbformat_minor": 5
}
